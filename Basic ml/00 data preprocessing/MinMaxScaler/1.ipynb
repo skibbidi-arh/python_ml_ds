{
 "cells": [
  {
   "attachments": {
    "image-2.png": {
     "image/png": "[encoded data removed]"
    },
    "image.png": {
     "image/png": "[encoded data removed]"
    }
   },
   "cell_type": "markdown",
   "metadata": {},
   "source": [
    "`MinMaxScaler` is a feature scaling technique in Python, provided by `sklearn.preprocessing`, that transforms numerical features by scaling them to a fixed range, typically \\([0,1]\\) or \\([-1,1]\\). It maintains the original distribution of data but compresses or stretches it within the specified range.\n",
    "\n",
    "### **Formula:**\n",
    "![image.png](attachment:image.png)\n",
    "\n",
    "### **Usage in Python:**\n",
    "```python\n",
    "from sklearn.preprocessing import MinMaxScaler\n",
    "import numpy as np\n",
    "\n",
    "# Sample data\n",
    "data = np.array([[10], [20], [30], [40], [50]])\n",
    "\n",
    "# Initialize the scaler\n",
    "scaler = MinMaxScaler(feature_range=(0, 1))\n",
    "\n",
    "# Fit and transform the data\n",
    "scaled_data = scaler.fit_transform(data)\n",
    "\n",
    "print(scaled_data)\n",
    "```\n",
    "\n",
    "Output::\n",
    "![image-2.png](attachment:image-2.png)\n",
    "\n",
    "### **Why Use MinMaxScaler?**\n",
    "- Useful for models that are sensitive to feature magnitudes, such as **k-NN, SVM, and neural networks**.\n",
    "- Preserves the original shape of the distribution.\n",
    "- Prevents large-scale features from dominating smaller ones.\n",
    "\n",
    "If you're working on a **datathon**, feature scaling like `MinMaxScaler` can help improve model performance, especially for machine learning algorithms that rely on distance calculations. 🚀"
   ]
  },
  {
   "cell_type": "code",
   "execution_count": 106,
   "metadata": {},
   "outputs": [],
   "source": [
    "import pandas as pd"
   ]
  },
  {
   "cell_type": "code",
   "execution_count": 107,
   "metadata": {},
   "outputs": [
    {
     "data": {
      "text/html": [
       "<div>\n",
       "<style scoped>\n",
       "    .dataframe tbody tr th:only-of-type {\n",
       "        vertical-align: middle;\n",
       "    }\n",
       "\n",
       "    .dataframe tbody tr th {\n",
       "        vertical-align: top;\n",
       "    }\n",
       "\n",
       "    .dataframe thead th {\n",
       "        text-align: right;\n",
       "    }\n",
       "</style>\n",
       "<table border=\"1\" class=\"dataframe\">\n",
       "  <thead>\n",
       "    <tr style=\"text-align: right;\">\n",
       "      <th></th>\n",
       "      <th>mpg</th>\n",
       "      <th>cylinders</th>\n",
       "      <th>displacement</th>\n",
       "      <th>horsepower</th>\n",
       "      <th>weight</th>\n",
       "      <th>acceleration</th>\n",
       "      <th>model year</th>\n",
       "      <th>origin</th>\n",
       "      <th>car name</th>\n",
       "    </tr>\n",
       "  </thead>\n",
       "  <tbody>\n",
       "    <tr>\n",
       "      <th>0</th>\n",
       "      <td>18.0</td>\n",
       "      <td>8</td>\n",
       "      <td>307.0</td>\n",
       "      <td>130</td>\n",
       "      <td>3504</td>\n",
       "      <td>12.0</td>\n",
       "      <td>70</td>\n",
       "      <td>1</td>\n",
       "      <td>chevrolet chevelle malibu</td>\n",
       "    </tr>\n",
       "    <tr>\n",
       "      <th>1</th>\n",
       "      <td>15.0</td>\n",
       "      <td>8</td>\n",
       "      <td>350.0</td>\n",
       "      <td>165</td>\n",
       "      <td>3693</td>\n",
       "      <td>11.5</td>\n",
       "      <td>70</td>\n",
       "      <td>1</td>\n",
       "      <td>buick skylark 320</td>\n",
       "    </tr>\n",
       "    <tr>\n",
       "      <th>2</th>\n",
       "      <td>18.0</td>\n",
       "      <td>8</td>\n",
       "      <td>318.0</td>\n",
       "      <td>150</td>\n",
       "      <td>3436</td>\n",
       "      <td>11.0</td>\n",
       "      <td>70</td>\n",
       "      <td>1</td>\n",
       "      <td>plymouth satellite</td>\n",
       "    </tr>\n",
       "    <tr>\n",
       "      <th>3</th>\n",
       "      <td>16.0</td>\n",
       "      <td>8</td>\n",
       "      <td>304.0</td>\n",
       "      <td>150</td>\n",
       "      <td>3433</td>\n",
       "      <td>12.0</td>\n",
       "      <td>70</td>\n",
       "      <td>1</td>\n",
       "      <td>amc rebel sst</td>\n",
       "    </tr>\n",
       "    <tr>\n",
       "      <th>4</th>\n",
       "      <td>17.0</td>\n",
       "      <td>8</td>\n",
       "      <td>302.0</td>\n",
       "      <td>140</td>\n",
       "      <td>3449</td>\n",
       "      <td>10.5</td>\n",
       "      <td>70</td>\n",
       "      <td>1</td>\n",
       "      <td>ford torino</td>\n",
       "    </tr>\n",
       "  </tbody>\n",
       "</table>\n",
       "</div>"
      ],
      "text/plain": [
       "    mpg  cylinders  displacement horsepower  weight  acceleration  model year  \\\n",
       "0  18.0          8         307.0        130    3504          12.0          70   \n",
       "1  15.0          8         350.0        165    3693          11.5          70   \n",
       "2  18.0          8         318.0        150    3436          11.0          70   \n",
       "3  16.0          8         304.0        150    3433          12.0          70   \n",
       "4  17.0          8         302.0        140    3449          10.5          70   \n",
       "\n",
       "   origin                   car name  \n",
       "0       1  chevrolet chevelle malibu  \n",
       "1       1          buick skylark 320  \n",
       "2       1         plymouth satellite  \n",
       "3       1              amc rebel sst  \n",
       "4       1                ford torino  "
      ]
     },
     "execution_count": 107,
     "metadata": {},
     "output_type": "execute_result"
    }
   ],
   "source": [
    "df = pd.read_csv(\"autompg.csv\")\n",
    "df.head()"
   ]
  },
  {
   "cell_type": "code",
   "execution_count": 108,
   "metadata": {},
   "outputs": [
    {
     "data": {
      "text/plain": [
       "mpg             float64\n",
       "cylinders         int64\n",
       "displacement    float64\n",
       "horsepower       object\n",
       "weight            int64\n",
       "acceleration    float64\n",
       "model year        int64\n",
       "origin            int64\n",
       "car name         object\n",
       "dtype: object"
      ]
     },
     "execution_count": 108,
     "metadata": {},
     "output_type": "execute_result"
    }
   ],
   "source": [
    "df.dtypes"
   ]
  },
  {
   "cell_type": "markdown",
   "metadata": {},
   "source": [
    "MinMaxScaler can be only applied on numeric datatypes"
   ]
  },
  {
   "cell_type": "markdown",
   "metadata": {},
   "source": [
    "In Python's **pandas** library, `df.iloc[]` is used for **integer-location based indexing** to select rows and columns from a DataFrame.\n",
    "\n",
    "### **Usage:**\n",
    "- It allows you to access data using **integer indices** (like lists in Python).\n",
    "- It is **zero-indexed**, meaning indexing starts from 0.\n",
    "\n",
    "### **Examples:**\n",
    "#### **1. Selecting Rows**\n",
    "```python\n",
    "import pandas as pd\n",
    "\n",
    "# Sample DataFrame\n",
    "data = {'Name': ['Alice', 'Bob', 'Charlie'],\n",
    "        'Age': [25, 30, 35]}\n",
    "\n",
    "df = pd.DataFrame(data)\n",
    "\n",
    "# Select the first row\n",
    "print(df.iloc[0])\n",
    "```\n",
    "**Output:**\n",
    "```\n",
    "Name    Alice\n",
    "Age        25\n",
    "Name: 0, dtype: object\n",
    "```\n",
    "\n",
    "#### **2. Selecting Rows & Columns**\n",
    "```python\n",
    "# Select the first row and second column (Age)\n",
    "print(df.iloc[0, 1])  # Output: 25\n",
    "\n",
    "# Select first two rows\n",
    "print(df.iloc[:2])  \n",
    "\n",
    "# Select first two rows, only Age column\n",
    "print(df.iloc[:2, 1])  \n",
    "```\n",
    "\n",
    "#### **3. Selecting a Range**\n",
    "```python\n",
    "# Select first two rows and first column (Name)\n",
    "print(df.iloc[:2, :1])  \n",
    "```\n",
    "\n",
    "#### **4. Selecting Using Lists**\n",
    "```python\n",
    "# Select specific rows and columns\n",
    "print(df.iloc[[0, 2], [0, 1]])  \n",
    "```\n",
    "\n",
    "### **Key Points:**\n",
    "- `iloc[]` is **exclusive to integer-based indexing**.\n",
    "- It does **not** accept labels (for that, use `df.loc[]`).\n",
    "- It follows **zero-based indexing**.\n",
    "\n",
    "Let me know if you need more details! 🚀"
   ]
  },
  {
   "cell_type": "code",
   "execution_count": 109,
   "metadata": {},
   "outputs": [
    {
     "data": {
      "text/html": [
       "<div>\n",
       "<style scoped>\n",
       "    .dataframe tbody tr th:only-of-type {\n",
       "        vertical-align: middle;\n",
       "    }\n",
       "\n",
       "    .dataframe tbody tr th {\n",
       "        vertical-align: top;\n",
       "    }\n",
       "\n",
       "    .dataframe thead th {\n",
       "        text-align: right;\n",
       "    }\n",
       "</style>\n",
       "<table border=\"1\" class=\"dataframe\">\n",
       "  <thead>\n",
       "    <tr style=\"text-align: right;\">\n",
       "      <th></th>\n",
       "      <th>displacement</th>\n",
       "      <th>weight</th>\n",
       "    </tr>\n",
       "  </thead>\n",
       "  <tbody>\n",
       "    <tr>\n",
       "      <th>0</th>\n",
       "      <td>307.0</td>\n",
       "      <td>3504</td>\n",
       "    </tr>\n",
       "    <tr>\n",
       "      <th>1</th>\n",
       "      <td>350.0</td>\n",
       "      <td>3693</td>\n",
       "    </tr>\n",
       "    <tr>\n",
       "      <th>2</th>\n",
       "      <td>318.0</td>\n",
       "      <td>3436</td>\n",
       "    </tr>\n",
       "    <tr>\n",
       "      <th>3</th>\n",
       "      <td>304.0</td>\n",
       "      <td>3433</td>\n",
       "    </tr>\n",
       "    <tr>\n",
       "      <th>4</th>\n",
       "      <td>302.0</td>\n",
       "      <td>3449</td>\n",
       "    </tr>\n",
       "  </tbody>\n",
       "</table>\n",
       "</div>"
      ],
      "text/plain": [
       "   displacement  weight\n",
       "0         307.0    3504\n",
       "1         350.0    3693\n",
       "2         318.0    3436\n",
       "3         304.0    3433\n",
       "4         302.0    3449"
      ]
     },
     "execution_count": 109,
     "metadata": {},
     "output_type": "execute_result"
    }
   ],
   "source": [
    "x=df.iloc[:,[2,4]] #we are selecting all the rows and two columns gfrom the dataframe\n",
    "x.head()"
   ]
  },
  {
   "cell_type": "code",
   "execution_count": 110,
   "metadata": {},
   "outputs": [
    {
     "data": {
      "text/html": [
       "<div>\n",
       "<style scoped>\n",
       "    .dataframe tbody tr th:only-of-type {\n",
       "        vertical-align: middle;\n",
       "    }\n",
       "\n",
       "    .dataframe tbody tr th {\n",
       "        vertical-align: top;\n",
       "    }\n",
       "\n",
       "    .dataframe thead th {\n",
       "        text-align: right;\n",
       "    }\n",
       "</style>\n",
       "<table border=\"1\" class=\"dataframe\">\n",
       "  <thead>\n",
       "    <tr style=\"text-align: right;\">\n",
       "      <th></th>\n",
       "      <th>acceleration</th>\n",
       "    </tr>\n",
       "  </thead>\n",
       "  <tbody>\n",
       "    <tr>\n",
       "      <th>0</th>\n",
       "      <td>12.0</td>\n",
       "    </tr>\n",
       "    <tr>\n",
       "      <th>1</th>\n",
       "      <td>11.5</td>\n",
       "    </tr>\n",
       "    <tr>\n",
       "      <th>2</th>\n",
       "      <td>11.0</td>\n",
       "    </tr>\n",
       "    <tr>\n",
       "      <th>3</th>\n",
       "      <td>12.0</td>\n",
       "    </tr>\n",
       "    <tr>\n",
       "      <th>4</th>\n",
       "      <td>10.5</td>\n",
       "    </tr>\n",
       "  </tbody>\n",
       "</table>\n",
       "</div>"
      ],
      "text/plain": [
       "   acceleration\n",
       "0          12.0\n",
       "1          11.5\n",
       "2          11.0\n",
       "3          12.0\n",
       "4          10.5"
      ]
     },
     "execution_count": 110,
     "metadata": {},
     "output_type": "execute_result"
    }
   ],
   "source": [
    "y=df.iloc[:,[5]]\n",
    "y.head()"
   ]
  },
  {
   "cell_type": "code",
   "execution_count": 111,
   "metadata": {},
   "outputs": [],
   "source": [
    "from sklearn.preprocessing import MinMaxScaler\n",
    "from sklearn.model_selection import train_test_split"
   ]
  },
  {
   "cell_type": "code",
   "execution_count": 112,
   "metadata": {},
   "outputs": [
    {
     "data": {
      "text/html": [
       "<div>\n",
       "<style scoped>\n",
       "    .dataframe tbody tr th:only-of-type {\n",
       "        vertical-align: middle;\n",
       "    }\n",
       "\n",
       "    .dataframe tbody tr th {\n",
       "        vertical-align: top;\n",
       "    }\n",
       "\n",
       "    .dataframe thead th {\n",
       "        text-align: right;\n",
       "    }\n",
       "</style>\n",
       "<table border=\"1\" class=\"dataframe\">\n",
       "  <thead>\n",
       "    <tr style=\"text-align: right;\">\n",
       "      <th></th>\n",
       "      <th>displacement</th>\n",
       "      <th>weight</th>\n",
       "    </tr>\n",
       "  </thead>\n",
       "  <tbody>\n",
       "    <tr>\n",
       "      <th>370</th>\n",
       "      <td>112.0</td>\n",
       "      <td>2575</td>\n",
       "    </tr>\n",
       "    <tr>\n",
       "      <th>159</th>\n",
       "      <td>351.0</td>\n",
       "      <td>4657</td>\n",
       "    </tr>\n",
       "    <tr>\n",
       "      <th>161</th>\n",
       "      <td>250.0</td>\n",
       "      <td>3897</td>\n",
       "    </tr>\n",
       "    <tr>\n",
       "      <th>339</th>\n",
       "      <td>151.0</td>\n",
       "      <td>2635</td>\n",
       "    </tr>\n",
       "    <tr>\n",
       "      <th>107</th>\n",
       "      <td>232.0</td>\n",
       "      <td>2789</td>\n",
       "    </tr>\n",
       "  </tbody>\n",
       "</table>\n",
       "</div>"
      ],
      "text/plain": [
       "     displacement  weight\n",
       "370         112.0    2575\n",
       "159         351.0    4657\n",
       "161         250.0    3897\n",
       "339         151.0    2635\n",
       "107         232.0    2789"
      ]
     },
     "execution_count": 112,
     "metadata": {},
     "output_type": "execute_result"
    }
   ],
   "source": [
    "X_train,x_test,Y_train,y_test = train_test_split(x,y,random_state=50)\n",
    "X_train.head()"
   ]
  },
  {
   "cell_type": "code",
   "execution_count": 113,
   "metadata": {},
   "outputs": [
    {
     "name": "stdout",
     "output_type": "stream",
     "text": [
      "MinMaxScaler(feature_range=(1, 3))\n"
     ]
    }
   ],
   "source": [
    "scaler = MinMaxScaler(feature_range=(1,3)).fit(X_train)  #we can change the feature range here\n",
    "print(scaler)"
   ]
  },
  {
   "cell_type": "code",
   "execution_count": 114,
   "metadata": {},
   "outputs": [
    {
     "data": {
      "text/plain": [
       "array([  68., 1613.])"
      ]
     },
     "execution_count": 114,
     "metadata": {},
     "output_type": "execute_result"
    }
   ],
   "source": [
    "scaler.data_min_"
   ]
  },
  {
   "cell_type": "code",
   "execution_count": 115,
   "metadata": {},
   "outputs": [
    {
     "data": {
      "text/plain": [
       "array([ 455., 4997.])"
      ]
     },
     "execution_count": 115,
     "metadata": {},
     "output_type": "execute_result"
    }
   ],
   "source": [
    "scaler.data_max_\n",
    "#shows minimum and maximum data in the column/table"
   ]
  },
  {
   "cell_type": "code",
   "execution_count": 116,
   "metadata": {},
   "outputs": [
    {
     "data": {
      "text/html": [
       "<div>\n",
       "<style scoped>\n",
       "    .dataframe tbody tr th:only-of-type {\n",
       "        vertical-align: middle;\n",
       "    }\n",
       "\n",
       "    .dataframe tbody tr th {\n",
       "        vertical-align: top;\n",
       "    }\n",
       "\n",
       "    .dataframe thead th {\n",
       "        text-align: right;\n",
       "    }\n",
       "</style>\n",
       "<table border=\"1\" class=\"dataframe\">\n",
       "  <thead>\n",
       "    <tr style=\"text-align: right;\">\n",
       "      <th></th>\n",
       "      <th>displacement</th>\n",
       "      <th>weight</th>\n",
       "    </tr>\n",
       "  </thead>\n",
       "  <tbody>\n",
       "    <tr>\n",
       "      <th>count</th>\n",
       "      <td>298.000000</td>\n",
       "      <td>298.000000</td>\n",
       "    </tr>\n",
       "    <tr>\n",
       "      <th>mean</th>\n",
       "      <td>190.827181</td>\n",
       "      <td>2960.281879</td>\n",
       "    </tr>\n",
       "    <tr>\n",
       "      <th>std</th>\n",
       "      <td>104.500727</td>\n",
       "      <td>858.197014</td>\n",
       "    </tr>\n",
       "    <tr>\n",
       "      <th>min</th>\n",
       "      <td>68.000000</td>\n",
       "      <td>1613.000000</td>\n",
       "    </tr>\n",
       "    <tr>\n",
       "      <th>25%</th>\n",
       "      <td>98.000000</td>\n",
       "      <td>2202.750000</td>\n",
       "    </tr>\n",
       "    <tr>\n",
       "      <th>50%</th>\n",
       "      <td>144.500000</td>\n",
       "      <td>2803.500000</td>\n",
       "    </tr>\n",
       "    <tr>\n",
       "      <th>75%</th>\n",
       "      <td>259.500000</td>\n",
       "      <td>3573.000000</td>\n",
       "    </tr>\n",
       "    <tr>\n",
       "      <th>max</th>\n",
       "      <td>455.000000</td>\n",
       "      <td>4997.000000</td>\n",
       "    </tr>\n",
       "  </tbody>\n",
       "</table>\n",
       "</div>"
      ],
      "text/plain": [
       "       displacement       weight\n",
       "count    298.000000   298.000000\n",
       "mean     190.827181  2960.281879\n",
       "std      104.500727   858.197014\n",
       "min       68.000000  1613.000000\n",
       "25%       98.000000  2202.750000\n",
       "50%      144.500000  2803.500000\n",
       "75%      259.500000  3573.000000\n",
       "max      455.000000  4997.000000"
      ]
     },
     "execution_count": 116,
     "metadata": {},
     "output_type": "execute_result"
    }
   ],
   "source": [
    "X_train.describe()\n",
    "#shoes all the information about that dataframe"
   ]
  },
  {
   "cell_type": "code",
   "execution_count": 117,
   "metadata": {},
   "outputs": [
    {
     "data": {
      "text/plain": [
       "array([[1.22739018, 1.56855792],\n",
       "       [2.4625323 , 2.79905437],\n",
       "       [1.94056848, 2.3498818 ],\n",
       "       [1.42894057, 1.60401891],\n",
       "       [1.84754522, 1.69503546],\n",
       "       [1.39793282, 1.9143026 ],\n",
       "       [1.20671835, 1.4355792 ],\n",
       "       [1.19121447, 1.34101655],\n",
       "       [1.0878553 , 1.19621749],\n",
       "       [2.45736434, 2.44326241],\n",
       "       [1.84237726, 2.35579196],\n",
       "       [2.20930233, 2.58451537],\n",
       "       [2.50904393, 2.77423168],\n",
       "       [1.84754522, 1.78723404],\n",
       "       [2.86563307, 2.97340426],\n",
       "       [1.11886305, 1.21985816],\n",
       "       [1.1498708 , 1.12529551],\n",
       "       [1.42894057, 1.84042553],\n",
       "       [2.20930233, 1.91962175],\n",
       "       [1.81136951, 2.1820331 ],\n",
       "       [2.71576227, 3.        ],\n",
       "       [1.94056848, 1.90189125],\n",
       "       [2.71576227, 2.85165485],\n",
       "       [1.0878553 , 1.27009456],\n",
       "       [1.1498708 , 1.19917258],\n",
       "       [1.09302326, 1.21394799],\n",
       "       [2.45736434, 2.46985816],\n",
       "       [1.27390181, 1.62470449],\n",
       "       [1.67183463, 1.72104019],\n",
       "       [1.1498708 , 1.39361702],\n",
       "       [2.45736434, 2.67080378],\n",
       "       [1.37209302, 1.76359338],\n",
       "       [1.26873385, 1.97931442],\n",
       "       [1.07751938, 1.23049645],\n",
       "       [1.11886305, 1.24349882],\n",
       "       [1.0878553 , 1.21394799],\n",
       "       [2.21963824, 2.21690307],\n",
       "       [1.37209302, 1.73995272],\n",
       "       [1.81136951, 2.19208038],\n",
       "       [2.71576227, 2.68498818],\n",
       "       [1.15503876, 1.25531915],\n",
       "       [1.94056848, 2.09101655],\n",
       "       [1.1498708 , 1.13120567],\n",
       "       [2.45736434, 2.50827423],\n",
       "       [1.1498708 , 1.28782506],\n",
       "       [1.68217054, 1.85520095],\n",
       "       [1.26873385, 1.32328605],\n",
       "       [2.29198966, 2.46749409],\n",
       "       [1.98191214, 2.25118203],\n",
       "       [2.20930233, 1.94089835],\n",
       "       [2.21963824, 2.34692671],\n",
       "       [1.26873385, 1.52777778],\n",
       "       [2.62790698, 2.15248227],\n",
       "       [1.42894057, 1.62470449],\n",
       "       [2.20930233, 2.15661939],\n",
       "       [1.15503876, 1.30851064],\n",
       "       [1.15503876, 1.29964539],\n",
       "       [2.45736434, 2.63534279],\n",
       "       [1.99224806, 2.44621749],\n",
       "       [1.15503876, 1.25591017],\n",
       "       [1.1498708 , 1.38534279],\n",
       "       [1.15503876, 1.32565012],\n",
       "       [1.84754522, 1.6034279 ],\n",
       "       [1.34108527, 1.64893617],\n",
       "       [1.27906977, 1.52423168],\n",
       "       [1.11886305, 1.11052009],\n",
       "       [1.45478036, 1.77836879],\n",
       "       [2.71576227, 2.60283688],\n",
       "       [1.01550388, 1.09456265],\n",
       "       [1.20155039, 1.50295508],\n",
       "       [1.0878553 , 1.22281324],\n",
       "       [1.27390181, 1.78014184],\n",
       "       [1.11886305, 1.14007092],\n",
       "       [2.71576227, 2.26950355],\n",
       "       [1.15503876, 1.11052009],\n",
       "       [1.59431525, 2.13297872],\n",
       "       [1.27390181, 1.69858156],\n",
       "       [1.0620155 , 1.65425532],\n",
       "       [1.2377261 , 1.57269504],\n",
       "       [1.10852713, 1.13711584],\n",
       "       [1.11369509, 1.42671395],\n",
       "       [1.05684755, 1.19917258],\n",
       "       [1.26873385, 1.79432624],\n",
       "       [2.45736434, 2.68026005],\n",
       "       [1.68217054, 1.81382979],\n",
       "       [1.45478036, 1.70567376],\n",
       "       [1.1498708 , 1.30555556],\n",
       "       [1.84754522, 1.86997636],\n",
       "       [2.45736434, 2.53427896],\n",
       "       [1.11369509, 1.19148936],\n",
       "       [1.27390181, 1.36702128],\n",
       "       [1.05167959, 1.21985816],\n",
       "       [1.32041344, 1.90839243],\n",
       "       [2.29198966, 2.26595745],\n",
       "       [1.15503876, 1.32565012],\n",
       "       [1.42894057, 1.73404255],\n",
       "       [1.24806202, 1.35874704],\n",
       "       [1.67183463, 1.88002364],\n",
       "       [1.99224806, 2.03546099],\n",
       "       [1.27390181, 1.62529551],\n",
       "       [1.40310078, 1.77836879],\n",
       "       [1.84754522, 1.97635934],\n",
       "       [1.84237726, 2.06501182],\n",
       "       [1.19121447, 1.35579196],\n",
       "       [2.50904393, 2.30496454],\n",
       "       [1.27906977, 1.40602837],\n",
       "       [1.34625323, 1.53900709],\n",
       "       [2.4625323 , 2.50177305],\n",
       "       [1.81136951, 2.04491726],\n",
       "       [1.11369509, 1.36052009],\n",
       "       [1.84237726, 2.07092199],\n",
       "       [2.62790698, 2.9751773 ],\n",
       "       [1.26873385, 1.59810875],\n",
       "       [1.94056848, 2.15898345],\n",
       "       [1.98191214, 2.06205674],\n",
       "       [1.84237726, 2.08274232],\n",
       "       [1.45478036, 1.59515366],\n",
       "       [1.26873385, 1.60401891],\n",
       "       [1.27390181, 1.61879433],\n",
       "       [1.37209302, 1.5786052 ],\n",
       "       [2.21963824, 2.56264775],\n",
       "       [2.4625323 , 2.53782506],\n",
       "       [1.1498708 , 1.37884161],\n",
       "       [1.22739018, 1.46217494],\n",
       "       [1.94056848, 2.0141844 ],\n",
       "       [2.4625323 , 2.60874704],\n",
       "       [1.84237726, 2.13593381],\n",
       "       [1.11369509, 1.21985816],\n",
       "       [1.26873385, 1.5177305 ],\n",
       "       [1.27390181, 1.78723404],\n",
       "       [1.0878553 , 1.29373522],\n",
       "       [1.20155039, 1.48286052],\n",
       "       [1.1498708 , 1.32033097],\n",
       "       [1.4496124 , 1.50768322],\n",
       "       [1.05684755, 1.08392435],\n",
       "       [1.02067183, 1.        ],\n",
       "       [1.42894057, 1.66312057],\n",
       "       [1.27390181, 1.74172577],\n",
       "       [1.0878553 , 1.13120567],\n",
       "       [1.84754522, 1.76891253],\n",
       "       [1.45478036, 1.66903073],\n",
       "       [2.2248062 , 2.53782506],\n",
       "       [2.21963824, 2.84338061],\n",
       "       [2.50904393, 2.37529551],\n",
       "       [1.1498708 , 1.21985816],\n",
       "       [1.37209302, 1.56264775],\n",
       "       [1.40310078, 1.71040189],\n",
       "       [1.26356589, 1.65425532],\n",
       "       [1.22739018, 1.606974  ],\n",
       "       [1.1498708 , 1.3144208 ],\n",
       "       [1.84754522, 1.94385343],\n",
       "       [1.18604651, 1.45035461],\n",
       "       [1.1498708 , 1.33983452],\n",
       "       [1.20155039, 1.35283688],\n",
       "       [1.3255814 , 1.71926714],\n",
       "       [1.1498708 , 1.13061466],\n",
       "       [1.51679587, 1.76654846],\n",
       "       [1.19121447, 1.31737589],\n",
       "       [1.26356589, 1.55082742],\n",
       "       [2.45736434, 2.24822695],\n",
       "       [1.10335917, 1.26713948],\n",
       "       [1.20155039, 1.4001182 ],\n",
       "       [2.71576227, 2.94621749],\n",
       "       [1.58397933, 1.78723404],\n",
       "       [1.05684755, 1.20685579],\n",
       "       [1.10852713, 1.18439716],\n",
       "       [1.24806202, 1.32210402],\n",
       "       [3.        , 1.87056738],\n",
       "       [2.00258398, 1.95035461],\n",
       "       [1.68217054, 1.82683215],\n",
       "       [1.10852713, 1.20981087],\n",
       "       [1.37209302, 1.69562648],\n",
       "       [1.15503876, 1.25531915],\n",
       "       [1.1498708 , 1.34101655],\n",
       "       [1.27906977, 1.46217494],\n",
       "       [1.15245478, 1.30319149],\n",
       "       [2.29198966, 2.49054374],\n",
       "       [1.68217054, 1.79905437],\n",
       "       [1.23255814, 1.393026  ],\n",
       "       [1.1498708 , 1.19326241],\n",
       "       [1.37209302, 1.38475177],\n",
       "       [1.09302326, 1.15484634],\n",
       "       [1.51679587, 1.7606383 ],\n",
       "       [1.        , 1.1501182 ],\n",
       "       [1.23255814, 1.44858156],\n",
       "       [2.29198966, 2.45626478],\n",
       "       [1.11886305, 1.30555556],\n",
       "       [1.11886305, 1.20212766],\n",
       "       [1.81136951, 2.07387707],\n",
       "       [1.84754522, 1.72222222],\n",
       "       [1.39276486, 1.62174941],\n",
       "       [1.49095607, 2.06205674],\n",
       "       [1.01550388, 1.13179669],\n",
       "       [1.20155039, 1.3498818 ],\n",
       "       [2.92248062, 2.59515366],\n",
       "       [1.94056848, 1.91312057],\n",
       "       [1.34108527, 1.55969267],\n",
       "       [1.06718346, 1.08687943],\n",
       "       [1.11886305, 1.21099291],\n",
       "       [1.68217054, 1.57565012],\n",
       "       [2.45736434, 2.35165485],\n",
       "       [1.01033592, 1.30200946],\n",
       "       [2.45736434, 2.70744681],\n",
       "       [1.0878553 , 1.24054374],\n",
       "       [1.11886305, 1.20803783],\n",
       "       [2.86563307, 2.61229314],\n",
       "       [1.1498708 , 1.40602837],\n",
       "       [1.54263566, 1.58037825],\n",
       "       [2.29198966, 2.63652482],\n",
       "       [2.02842377, 2.17730496],\n",
       "       [1.34108527, 1.64361702],\n",
       "       [1.26873385, 1.54905437],\n",
       "       [2.20930233, 2.24822695],\n",
       "       [2.20930233, 2.58510638],\n",
       "       [1.27390181, 1.79018913],\n",
       "       [1.34625323, 1.51832151],\n",
       "       [2.20930233, 2.08510638],\n",
       "       [1.26873385, 1.80732861],\n",
       "       [1.15503876, 1.31382979],\n",
       "       [1.99224806, 2.0679669 ],\n",
       "       [1.34625323, 1.45626478],\n",
       "       [1.84237726, 1.8427896 ],\n",
       "       [1.20671835, 1.38534279],\n",
       "       [2.2248062 , 2.07092199],\n",
       "       [2.4625323 , 2.62529551],\n",
       "       [1.11369509, 1.19148936],\n",
       "       [1.94056848, 1.98640662],\n",
       "       [1.49095607, 1.90248227],\n",
       "       [2.29198966, 2.31028369],\n",
       "       [1.67183463, 1.76300236],\n",
       "       [1.42894057, 1.55732861],\n",
       "       [2.2248062 , 2.31619385],\n",
       "       [2.29198966, 2.45803783],\n",
       "       [2.21963824, 2.38829787],\n",
       "       [1.51679587, 2.30437352],\n",
       "       [1.98191214, 1.79728132],\n",
       "       [1.37209302, 1.7429078 ],\n",
       "       [1.94056848, 2.02836879],\n",
       "       [1.19121447, 1.21690307],\n",
       "       [1.17054264, 1.34810875],\n",
       "       [1.94056848, 2.01832151],\n",
       "       [1.94056848, 2.13002364],\n",
       "       [1.94056848, 1.99822695],\n",
       "       [1.81136951, 2.20449173],\n",
       "       [2.45736434, 2.57269504],\n",
       "       [1.53229974, 1.81028369],\n",
       "       [1.15503876, 1.30260047],\n",
       "       [1.81136951, 1.97576832],\n",
       "       [2.71576227, 2.80555556],\n",
       "       [1.05684755, 1.27245863],\n",
       "       [1.11886305, 1.20803783],\n",
       "       [1.19121447, 1.30260047],\n",
       "       [2.20930233, 2.78782506],\n",
       "       [1.26356589, 1.59219858],\n",
       "       [2.92248062, 2.84515366],\n",
       "       [2.2248062 , 2.33983452],\n",
       "       [2.29198966, 2.55082742],\n",
       "       [2.23514212, 2.11761229],\n",
       "       [1.20671835, 1.45271868],\n",
       "       [1.15503876, 1.32033097],\n",
       "       [1.20671835, 1.37352246],\n",
       "       [1.45478036, 1.70153664],\n",
       "       [1.09302326, 1.29373522],\n",
       "       [1.37209302, 1.46985816],\n",
       "       [2.23514212, 2.63297872],\n",
       "       [2.50904393, 2.79728132],\n",
       "       [1.14470284, 1.34042553],\n",
       "       [1.27906977, 1.49527187],\n",
       "       [1.11369509, 1.29255319],\n",
       "       [2.99483204, 2.61997636],\n",
       "       [1.26356589, 1.48522459],\n",
       "       [2.45736434, 2.70567376],\n",
       "       [1.54263566, 1.6572104 ],\n",
       "       [1.27906977, 1.35874704],\n",
       "       [2.4625323 , 2.38416076],\n",
       "       [1.37726098, 1.9320331 ],\n",
       "       [1.98191214, 2.19326241],\n",
       "       [1.05684755, 1.12529551],\n",
       "       [1.94056848, 2.0750591 ],\n",
       "       [2.71576227, 2.68498818],\n",
       "       [1.10852713, 1.25827423],\n",
       "       [1.81136951, 2.28368794],\n",
       "       [1.22739018, 1.58628842],\n",
       "       [1.01033592, 1.42375887],\n",
       "       [2.29198966, 2.25413712],\n",
       "       [3.        , 2.97281324],\n",
       "       [1.84237726, 2.04432624],\n",
       "       [1.94056848, 2.28132388],\n",
       "       [1.15503876, 1.25886525],\n",
       "       [1.10852713, 1.22281324],\n",
       "       [1.42894057, 1.79018913],\n",
       "       [2.71576227, 2.54078014],\n",
       "       [2.71576227, 2.66016548],\n",
       "       [1.37209302, 1.54905437],\n",
       "       [2.45736434, 2.62352246],\n",
       "       [1.37209302, 1.46572104],\n",
       "       [1.34625323, 1.40307329],\n",
       "       [1.84754522, 1.94444444]])"
      ]
     },
     "execution_count": 117,
     "metadata": {},
     "output_type": "execute_result"
    }
   ],
   "source": [
    "scaler.transform(X_train)"
   ]
  },
  {
   "cell_type": "code",
   "execution_count": 118,
   "metadata": {},
   "outputs": [],
   "source": [
    "X_train_scaled = scaler.transform(X_train)"
   ]
  },
  {
   "cell_type": "code",
   "execution_count": 119,
   "metadata": {},
   "outputs": [
    {
     "data": {
      "text/plain": [
       "1.0"
      ]
     },
     "execution_count": 119,
     "metadata": {},
     "output_type": "execute_result"
    }
   ],
   "source": [
    "import numpy as np\n",
    "np.min(X_train_scaled)"
   ]
  },
  {
   "cell_type": "code",
   "execution_count": 120,
   "metadata": {},
   "outputs": [
    {
     "data": {
      "text/plain": [
       "3.0"
      ]
     },
     "execution_count": 120,
     "metadata": {},
     "output_type": "execute_result"
    }
   ],
   "source": [
    "np.max(X_train_scaled)"
   ]
  },
  {
   "cell_type": "code",
   "execution_count": 129,
   "metadata": {},
   "outputs": [
    {
     "data": {
      "text/plain": [
       "2.0"
      ]
     },
     "execution_count": 129,
     "metadata": {},
     "output_type": "execute_result"
    }
   ],
   "source": [
    "scaler =MinMaxScaler(feature_range=(2,4)).fit(x_test)\n",
    "x_test_scaled = scaler.transform(x_test)\n",
    "np.min(x_test_scaled)"
   ]
  },
  {
   "cell_type": "code",
   "execution_count": 128,
   "metadata": {},
   "outputs": [
    {
     "data": {
      "text/plain": [
       "4.0"
      ]
     },
     "execution_count": 128,
     "metadata": {},
     "output_type": "execute_result"
    }
   ],
   "source": [
    "np.max(x_test_scaled)"
   ]
  },
  {
   "cell_type": "markdown",
   "metadata": {},
   "source": [
    "this is the whole process"
   ]
  },
  {
   "cell_type": "markdown",
   "metadata": {},
   "source": []
  }
 ],
 "metadata": {
  "kernelspec": {
   "display_name": "base",
   "language": "python",
   "name": "python3"
  },
  "language_info": {
   "codemirror_mode": {
    "name": "ipython",
    "version": 3
   },
   "file_extension": ".py",
   "mimetype": "text/x-python",
   "name": "python",
   "nbconvert_exporter": "python",
   "pygments_lexer": "ipython3",
   "version": "3.12.7"
  }
 },
 "nbformat": 4,
 "nbformat_minor": 2
}
